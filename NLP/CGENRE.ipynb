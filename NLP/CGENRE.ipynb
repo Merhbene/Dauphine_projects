{
  "nbformat": 4,
  "nbformat_minor": 0,
  "metadata": {
    "colab": {
      "name": "CGENRE.ipynb",
      "provenance": [],
      "collapsed_sections": [
        "2wFFX9OQu4S8",
        "HWwcsaBpvByP",
        "tTtsBbJSvLW0",
        "itkWRjWRtDgB",
        "B18_VHebekL1",
        "Sfht0VOQs76r",
        "MuTgQ-cetAz9",
        "wfWfFGLntW3S",
        "NMKyKdeqtDYy",
        "84kp9kW_uUQU",
        "F5x3dpiHuQPq",
        "dBXNVFJHud73",
        "H8ZMr2P32cUX"
      ],
      "machine_shape": "hm"
    },
    "kernelspec": {
      "name": "python3",
      "display_name": "Python 3"
    },
    "accelerator": "GPU"
  },
  "cells": [
    {
      "cell_type": "code",
      "metadata": {
        "id": "2t3ezzHYeXqk",
        "colab": {
          "base_uri": "https://localhost:8080/",
          "height": 88
        },
        "outputId": "c23d7257-a5c4-4b67-ae57-2656db610031"
      },
      "source": [
        "import os\n",
        "import urllib.request\n",
        "import zipfile\n",
        "import pandas as pd\n",
        "import numpy as np\n",
        "import ast    # converte str de list to list\n",
        "import re\n",
        "import string\n",
        "import nltk\n",
        "import tensorflow as tf\n",
        "import codecs\n",
        " \n",
        "from matplotlib import pyplot as plt\n",
        "from sklearn.svm import LinearSVC\n",
        "from sklearn.metrics import confusion_matrix\n",
        "from sklearn.datasets.samples_generator import make_blobs\n",
        "from sklearn.model_selection import train_test_split\n",
        "from sklearn.feature_extraction.text import TfidfVectorizer\n",
        "from sklearn.metrics import f1_score\n",
        "from tensorflow.keras.preprocessing.text import Tokenizer\n",
        "from tensorflow.keras import regularizers, initializers, optimizers, callbacks\n",
        "from tensorflow.keras.preprocessing.sequence import pad_sequences\n",
        "from tensorflow.keras.preprocessing.text import Tokenizer\n",
        "from keras.utils.np_utils import to_categorical\n",
        "from tensorflow.keras.layers import *\n",
        "from tensorflow.keras.models import Model\n",
        " \n",
        " \n",
        "from sklearn.preprocessing import LabelEncoder\n",
        "from collections import defaultdict\n",
        "from nltk.corpus import wordnet as wn\n",
        "from sklearn import model_selection, naive_bayes, svm\n",
        "from sklearn.metrics import accuracy_score"
      ],
      "execution_count": null,
      "outputs": [
        {
          "output_type": "stream",
          "text": [
            "/usr/local/lib/python3.6/dist-packages/sklearn/utils/deprecation.py:144: FutureWarning: The sklearn.datasets.samples_generator module is  deprecated in version 0.22 and will be removed in version 0.24. The corresponding classes / functions should instead be imported from sklearn.datasets. Anything that cannot be imported from sklearn.datasets is now part of the private API.\n",
            "  warnings.warn(message, FutureWarning)\n",
            "Using TensorFlow backend.\n"
          ],
          "name": "stderr"
        }
      ]
    },
    {
      "cell_type": "code",
      "metadata": {
        "id": "DDs4BWvqecPg"
      },
      "source": [
        "from nltk.corpus import stopwords    \n",
        "from nltk.tokenize import word_tokenize\n",
        "from nltk.stem import PorterStemmer\n",
        "from nltk import pos_tag\n",
        "from nltk.stem import WordNetLemmatizer"
      ],
      "execution_count": null,
      "outputs": []
    },
    {
      "cell_type": "code",
      "metadata": {
        "id": "oh3SVb-HecR9",
        "colab": {
          "base_uri": "https://localhost:8080/",
          "height": 85
        },
        "outputId": "10c24234-c2d4-4e8c-a0ba-7d1f15eb8b22"
      },
      "source": [
        "nltk.download('stopwords')\n",
        "nltk.download('punkt')\n",
        "stop_words = set(stopwords.words('english'))\n",
        "stemmer= PorterStemmer()"
      ],
      "execution_count": null,
      "outputs": [
        {
          "output_type": "stream",
          "text": [
            "[nltk_data] Downloading package stopwords to /root/nltk_data...\n",
            "[nltk_data]   Package stopwords is already up-to-date!\n",
            "[nltk_data] Downloading package punkt to /root/nltk_data...\n",
            "[nltk_data]   Package punkt is already up-to-date!\n"
          ],
          "name": "stdout"
        }
      ]
    },
    {
      "cell_type": "code",
      "metadata": {
        "id": "Be_bYAJfecUf",
        "colab": {
          "base_uri": "https://localhost:8080/",
          "height": 34
        },
        "outputId": "2f1909e5-02d2-46a7-ab69-22689c33c108"
      },
      "source": [
        "from google.colab import drive \n",
        "drive.mount('/content/gdrive')"
      ],
      "execution_count": null,
      "outputs": [
        {
          "output_type": "stream",
          "text": [
            "Drive already mounted at /content/gdrive; to attempt to forcibly remount, call drive.mount(\"/content/gdrive\", force_remount=True).\n"
          ],
          "name": "stdout"
        }
      ]
    },
    {
      "cell_type": "code",
      "metadata": {
        "id": "_WB7JUwCvcRJ"
      },
      "source": [
        "# un dictionnaire que va contenir on clé le nom du model et on valeur ( le model , f1_score)\n",
        "model_score={}"
      ],
      "execution_count": null,
      "outputs": []
    },
    {
      "cell_type": "markdown",
      "metadata": {
        "id": "2wFFX9OQu4S8"
      },
      "source": [
        "#Préparation des données "
      ]
    },
    {
      "cell_type": "markdown",
      "metadata": {
        "id": "9PfCH6A6rPCF"
      },
      "source": [
        "On a 3 bases de données movie_characters_metadata , movie_lines et movie_conversations."
      ]
    },
    {
      "cell_type": "markdown",
      "metadata": {
        "id": "HWwcsaBpvByP"
      },
      "source": [
        "##Charger toutes les données"
      ]
    },
    {
      "cell_type": "code",
      "metadata": {
        "id": "WKI1gA4xu7A4"
      },
      "source": [
        "# a partir de la base movie_characters_metadata on va cree deux base de données :\n",
        "  # data_ch_ente qu'est la base de l'entrianement \n",
        "  # data_ch_pred qu'est la base de prediction qui a gendre manquant et qu'on va l'estimer \n",
        "data_ch_ente=[]\n",
        "data_ch_pred=[]\n",
        "f = open(\"/content/gdrive/My Drive/data set projet ML/movie_characters_metadata.txt\", \"r\",encoding=\"ISO-8859-1\")\n",
        "for x in f:\n",
        "  l=x.split(' +++$+++ ')\n",
        "  l[len(l)-1]=l[len(l)-1].replace(\"\\n\",\"\")\n",
        "  if(l[len(l)-2]==\"?\"):\n",
        "    data_ch_pred.append(l)\n",
        "  else:\n",
        "    l[len(l)-2]=l[len(l)-2].upper()\n",
        "    data_ch_ente.append(l)\n",
        "        \n",
        "col_ch=[\"characterID\",\"character_name\",\"movieID\",\"movie_title\",\"gender\",\"position\"]\n",
        "df_ch_ente=pd.DataFrame(data_ch_ente,columns=col_ch)    \n",
        "df_ch_pred=pd.DataFrame(data_ch_pred,columns=col_ch) \n",
        "\n",
        "# on va transformer les sexe telleque M =1  et F=0 \n",
        "df_ch_ente['gender'][df_ch_ente[\"gender\"] == \"M\"] = 1 \n",
        "df_ch_ente['gender'][df_ch_ente[\"gender\"] == \"F\"] = 0"
      ],
      "execution_count": null,
      "outputs": []
    },
    {
      "cell_type": "code",
      "metadata": {
        "id": "F1RQt6Iju7m6"
      },
      "source": [
        "def manip(s):\n",
        "    resu=[]\n",
        "    s=s.lower()\n",
        "    s = re.sub(r\"what's\", \"what is \", s)\n",
        "    s = re.sub(r\"\\'s\", \" \", s)\n",
        "    s = re.sub(r\"\\'ve\", \" have \", s)\n",
        "    s = re.sub(r\"can't\", \"can not \", s)\n",
        "    s = re.sub(r\"n't\", \" not \", s)\n",
        "    s = re.sub(r\"i'm\", \"i am \", s)\n",
        "    s = re.sub(r\"\\'re\", \" are \", s)\n",
        "    s = re.sub(r\"\\'d\", \" would \", s)\n",
        "    s = re.sub(r\"\\'ll\", \" will \", s)\n",
        "    s = re.sub(r\"\\'scuse\", \" excuse \", s)\n",
        "    s = re.sub('\\W', ' ', s)\n",
        "    s = re.sub('\\s+', ' ', s)\n",
        "    s = re.sub(r'\\d+', '', s)\n",
        "    s = s.translate(str.maketrans('','',string.punctuation))\n",
        "    s=s.strip()\n",
        "    tokens = word_tokenize(s)\n",
        "    list_s = [i for i in tokens if not i in stop_words]\n",
        "    for word in list_s:\n",
        "        resu.append(stemmer.stem(word))\n",
        "    \n",
        "    w=' '.join(resu)\n",
        "    return(w)"
      ],
      "execution_count": null,
      "outputs": []
    },
    {
      "cell_type": "code",
      "metadata": {
        "id": "ieLm_RS4u7sY"
      },
      "source": [
        "data_li=[]\n",
        "f = open(\"/content/gdrive/My Drive/data set projet ML/movie_lines.txt\", \"r\",encoding=\"ISO-8859-1\")\n",
        "for x in f:\n",
        "    l=x.split(' +++$+++ ')\n",
        "    l[len(l)-1]=l[len(l)-1].replace(\"\\n\",\"\")\n",
        "    l[len(l)-1]=manip(l[len(l)-1])\n",
        "    data_li.append(l)\n",
        "    \n",
        "col_li=[\"lineID\",\"characterID\",\"movieID\",\"character_name\",\"text__utterance\"]\n",
        "df_li=pd.DataFrame(data_li,columns=col_li)\n",
        "del data_li"
      ],
      "execution_count": null,
      "outputs": []
    },
    {
      "cell_type": "code",
      "metadata": {
        "id": "KkMHoi6zu72I"
      },
      "source": [
        "d={df_li.loc[i]['lineID']:df_li.loc[i]['text__utterance'] for i in range(len(df_li))}"
      ],
      "execution_count": null,
      "outputs": []
    },
    {
      "cell_type": "code",
      "metadata": {
        "id": "gQSPylfyu745"
      },
      "source": [
        "data_con=[]\n",
        "f = open(\"/content/gdrive/My Drive/data set projet ML/movie_conversations.txt\", \"r\")\n",
        "for x in f:\n",
        "    l=x.split(' +++$+++ ')\n",
        "    l[len(l)-1]=l[len(l)-1].replace(\"\\n\",\"\")\n",
        "    l[len(l)-1]=ast.literal_eval(l[len(l)-1])\n",
        "    l[len(l)-1]=[d[i] for i in l[len(l)-1]]\n",
        "    data_con.append(l)\n",
        "    \n",
        "col_con=[\"characterID_first\",\"characterID_second\",\"movieID\",\"utterances\"]\n",
        "df_con=pd.DataFrame(data_con,columns=col_con)\n",
        "del d\n",
        "del data_con"
      ],
      "execution_count": null,
      "outputs": []
    },
    {
      "cell_type": "markdown",
      "metadata": {
        "id": "tTtsBbJSvLW0"
      },
      "source": [
        "##Jointure"
      ]
    },
    {
      "cell_type": "markdown",
      "metadata": {
        "id": "iFJTwSBhrtCu"
      },
      "source": [
        "Apres avoire lire les 3 bases de données , on va faire la jointure entre les eux de cette façon:\n",
        "on se basant sur de la colonne characterID de movie_characters_metadata et la colonne characterID_first de movie_conversations on va faire on faire la jointure vue que on a deja fusionner movie_line et movie_conversations.  "
      ]
    },
    {
      "cell_type": "code",
      "metadata": {
        "id": "8Q-X5Bdn3CiE"
      },
      "source": [
        "def data_to_dict(df_ch,df_con):\n",
        "  d_id={}\n",
        "  for i in range(len(df_ch)):\n",
        "    x=df_ch.loc[i]\n",
        "    if(x[\"characterID\"] in d_id):\n",
        "      d_id[x[\"characterID\"]].append(x[\"gender\"])\n",
        "    else:\n",
        "      d_id[x[\"characterID\"]]=[x[\"gender\"]]\n",
        "  d_con={}\n",
        "  for j in list(df_con.index):\n",
        "    x=df_con.loc[j]\n",
        "    if(x[\"characterID_first\"] in d_con):\n",
        "      d_con[x[\"characterID_first\"]]=d_con[x[\"characterID_first\"]]+x[\"utterances\"]\n",
        "    else:\n",
        "      d_con[x[\"characterID_first\"]]=x[\"utterances\"]\n",
        "  return((d_id , d_con))"
      ],
      "execution_count": null,
      "outputs": []
    },
    {
      "cell_type": "code",
      "metadata": {
        "id": "nkYHHdXLu8AF"
      },
      "source": [
        "def Merge(d_id,d_con):\n",
        "  merge=[]\n",
        "  for i in d_id:\n",
        "    if(i in d_con):\n",
        "      merge.append( [i,d_con[i],d_id[i][0]] )\n",
        "\n",
        "  col=[\"id\",\"text__utterance\",\"gender\"]\n",
        "  df_f=pd.DataFrame(merge,columns=col)\n",
        "  return(df_f)"
      ],
      "execution_count": null,
      "outputs": []
    },
    {
      "cell_type": "code",
      "metadata": {
        "id": "bzXt2VYk3WdL"
      },
      "source": [
        "d_id_ente,d_con=data_to_dict(df_ch_ente,df_con)"
      ],
      "execution_count": null,
      "outputs": []
    },
    {
      "cell_type": "code",
      "metadata": {
        "id": "hsisxJ6W4nJa"
      },
      "source": [
        "df_f=Merge(d_id_ente,d_con)"
      ],
      "execution_count": null,
      "outputs": []
    },
    {
      "cell_type": "code",
      "metadata": {
        "id": "UmsMWtpUu7wY",
        "colab": {
          "base_uri": "https://localhost:8080/",
          "height": 204
        },
        "outputId": "18c67bbd-b3bb-40d9-f1c5-59b168ec8800"
      },
      "source": [
        "df_f.head(5)"
      ],
      "execution_count": null,
      "outputs": [
        {
          "output_type": "execute_result",
          "data": {
            "text/html": [
              "<div>\n",
              "<style scoped>\n",
              "    .dataframe tbody tr th:only-of-type {\n",
              "        vertical-align: middle;\n",
              "    }\n",
              "\n",
              "    .dataframe tbody tr th {\n",
              "        vertical-align: top;\n",
              "    }\n",
              "\n",
              "    .dataframe thead th {\n",
              "        text-align: right;\n",
              "    }\n",
              "</style>\n",
              "<table border=\"1\" class=\"dataframe\">\n",
              "  <thead>\n",
              "    <tr style=\"text-align: right;\">\n",
              "      <th></th>\n",
              "      <th>id</th>\n",
              "      <th>text__utterance</th>\n",
              "      <th>gender</th>\n",
              "    </tr>\n",
              "  </thead>\n",
              "  <tbody>\n",
              "    <tr>\n",
              "      <th>0</th>\n",
              "      <td>u0</td>\n",
              "      <td>[make quick roxann korrin andrew barrett incre...</td>\n",
              "      <td>0</td>\n",
              "    </tr>\n",
              "    <tr>\n",
              "      <th>1</th>\n",
              "      <td>u2</td>\n",
              "      <td>[new guy, tell, cmon im suppos give tour, dako...</td>\n",
              "      <td>1</td>\n",
              "    </tr>\n",
              "    <tr>\n",
              "      <th>2</th>\n",
              "      <td>u4</td>\n",
              "      <td>[vintag look kat havent read sassi, yeah notic...</td>\n",
              "      <td>1</td>\n",
              "    </tr>\n",
              "    <tr>\n",
              "      <th>3</th>\n",
              "      <td>u5</td>\n",
              "      <td>[who, patrick verona random skid, that pat ver...</td>\n",
              "      <td>0</td>\n",
              "    </tr>\n",
              "    <tr>\n",
              "      <th>4</th>\n",
              "      <td>u6</td>\n",
              "      <td>[hey tire breath, hi, cool pictur fan, yeah gu...</td>\n",
              "      <td>0</td>\n",
              "    </tr>\n",
              "  </tbody>\n",
              "</table>\n",
              "</div>"
            ],
            "text/plain": [
              "   id                                    text__utterance  gender\n",
              "0  u0  [make quick roxann korrin andrew barrett incre...       0\n",
              "1  u2  [new guy, tell, cmon im suppos give tour, dako...       1\n",
              "2  u4  [vintag look kat havent read sassi, yeah notic...       1\n",
              "3  u5  [who, patrick verona random skid, that pat ver...       0\n",
              "4  u6  [hey tire breath, hi, cool pictur fan, yeah gu...       0"
            ]
          },
          "metadata": {
            "tags": []
          },
          "execution_count": 151
        }
      ]
    },
    {
      "cell_type": "code",
      "metadata": {
        "id": "ZzVSQ5Gp5QPH",
        "colab": {
          "base_uri": "https://localhost:8080/",
          "height": 34
        },
        "outputId": "b3fdbde3-66a1-4098-b1d0-bc2d8f3d0bf7"
      },
      "source": [
        "df_f.shape"
      ],
      "execution_count": null,
      "outputs": [
        {
          "output_type": "execute_result",
          "data": {
            "text/plain": [
              "(2182, 3)"
            ]
          },
          "metadata": {
            "tags": []
          },
          "execution_count": 152
        }
      ]
    },
    {
      "cell_type": "code",
      "metadata": {
        "id": "4q7DHTSru7qR"
      },
      "source": [
        "# une enregistrement de la base de données finale.\n",
        "df_f.to_csv( \"/content/gdrive/My Drive/data set projet ML/data final2.csv\" , index = False)"
      ],
      "execution_count": null,
      "outputs": []
    },
    {
      "cell_type": "markdown",
      "metadata": {
        "id": "itkWRjWRtDgB"
      },
      "source": [
        "#Les Modèles"
      ]
    },
    {
      "cell_type": "markdown",
      "metadata": {
        "id": "B18_VHebekL1"
      },
      "source": [
        "##Charger toutes les données "
      ]
    },
    {
      "cell_type": "markdown",
      "metadata": {
        "id": "A1O8l9zAtVsI"
      },
      "source": [
        "on va crées a partir de la dataframe finale une autre dataframe de cette forme:\n",
        "si on suppose qu'on a 3 individues (d1,d2 et d3) telleque :\n",
        "  - d1 a n1 phrases et de sexe s1\n",
        "  - d2 a n2 phrases et de sexe s2\n",
        "  - d3 a n3 phrases et de sexe s3\n",
        "notre base devenir ce cette forme\n",
        "\n",
        "\t\t\n",
        "         phrase_1_d1            s1\n",
        "\t\t .\n",
        "\t\t .\n",
        "\t\t .\n",
        "\t\t phrase_n1_d1           s1\n",
        "\t\t phrase_1_d2            s2\n",
        "\t\t .\n",
        "\t\t .\n",
        "\t\t .\n",
        "\t\t phrase_n2_d2           s2\n",
        "\t\t phrase_1_d3            s3\n",
        "\t\t .\n",
        "\t\t .\n",
        "\t\t .\n",
        "\t\t phrase_n1_d3           s3\n"
      ]
    },
    {
      "cell_type": "code",
      "metadata": {
        "id": "F2Vo-vfCktVE"
      },
      "source": [
        "def data_for_model(df):\n",
        "  data=[]\n",
        "  for i in list(df.index):\n",
        "    x=df.loc[i]\n",
        "    lis=x['text__utterance']\n",
        "    gen=x[\"gender\"]\n",
        "    idd=x['id']\n",
        "    for j in lis:\n",
        "      if((j!='') or (j!=' ')):\n",
        "        data.append([idd,j,gen])\n",
        "  col=[\"id\",\"text__utterance\",\"gender\"]\n",
        "  df_f=pd.DataFrame(data,columns=col) \n",
        "  return(df_f)"
      ],
      "execution_count": null,
      "outputs": []
    },
    {
      "cell_type": "code",
      "metadata": {
        "id": "YFuFmKPDecX-"
      },
      "source": [
        "df=pd.read_csv(\"/content/gdrive/My Drive/data set projet ML/data final2.csv\")"
      ],
      "execution_count": null,
      "outputs": []
    },
    {
      "cell_type": "code",
      "metadata": {
        "id": "fR72IUzFfp0j"
      },
      "source": [
        "df['text__utterance'] = df.apply(lambda x : ast.literal_eval(x[\"text__utterance\"]) ,axis=1)"
      ],
      "execution_count": null,
      "outputs": []
    },
    {
      "cell_type": "code",
      "metadata": {
        "id": "lwJuSCo9tNfT",
        "colab": {
          "base_uri": "https://localhost:8080/",
          "height": 248
        },
        "outputId": "a93a59af-477e-48ab-8fe6-3f6d9b517dd6"
      },
      "source": [
        "count=df['gender'].value_counts()\n",
        "labels = 'Homme','Femme'\n",
        "sizes = [count[1]/len(df),count[0]/len(df)]\n",
        "fig1, ax1 = plt.subplots()\n",
        "ax1.pie(sizes, labels=labels, autopct='%1.1f%%',\n",
        "        shadow=True, startangle=90)\n",
        "plt.show()"
      ],
      "execution_count": null,
      "outputs": [
        {
          "output_type": "display_data",
          "data": {
            "image/png": "[encoded data removed]",
            "text/plain": [
              "<Figure size 432x288 with 1 Axes>"
            ]
          },
          "metadata": {
            "tags": []
          }
        }
      ]
    },
    {
      "cell_type": "code",
      "metadata": {
        "id": "aqobbV5RlUid"
      },
      "source": [
        "df_f=data_for_model(df)"
      ],
      "execution_count": null,
      "outputs": []
    },
    {
      "cell_type": "code",
      "metadata": {
        "id": "sq7eprhQtrGx",
        "colab": {
          "base_uri": "https://localhost:8080/",
          "height": 248
        },
        "outputId": "da74b7be-4e5f-4a7f-8c4e-b33e7a100848"
      },
      "source": [
        "count=df_f['gender'].value_counts()\n",
        "labels = 'Homme','Femme'\n",
        "sizes = [count[1]/len(df_f),count[0]/len(df_f)]\n",
        "fig1, ax1 = plt.subplots()\n",
        "ax1.pie(sizes, labels=labels, autopct='%1.1f%%',\n",
        "        shadow=True, startangle=90)\n",
        "plt.show()"
      ],
      "execution_count": null,
      "outputs": [
        {
          "output_type": "display_data",
          "data": {
            "image/png": "[encoded data removed]",
            "text/plain": [
              "<Figure size 432x288 with 1 Axes>"
            ]
          },
          "metadata": {
            "tags": []
          }
        }
      ]
    },
    {
      "cell_type": "markdown",
      "metadata": {
        "id": "Xtn9PXISuy6Y"
      },
      "source": [
        "On peut voir que avec cette représentation de la base de doneés, on n'a pas presque rien changer dans les répartition des acteurs entre homme et femme"
      ]
    },
    {
      "cell_type": "code",
      "metadata": {
        "id": "onbBWxDs9FJi",
        "colab": {
          "base_uri": "https://localhost:8080/",
          "height": 34
        },
        "outputId": "0c2290d3-a3ab-457a-9367-e02b43bffccb"
      },
      "source": [
        "df_f.shape"
      ],
      "execution_count": null,
      "outputs": [
        {
          "output_type": "execute_result",
          "data": {
            "text/plain": [
              "(243916, 3)"
            ]
          },
          "metadata": {
            "tags": []
          },
          "execution_count": 13
        }
      ]
    },
    {
      "cell_type": "markdown",
      "metadata": {
        "id": "Sfht0VOQs76r"
      },
      "source": [
        "##Répartition et préparation des données"
      ]
    },
    {
      "cell_type": "markdown",
      "metadata": {
        "id": "jBTSBQsDvjBx"
      },
      "source": [
        "dans ce niveau on faire 4 choise:\n",
        "\n",
        "  - on notera MAX_SEQUENCE_LENGTH la plus long phrase\n",
        "  - on indexera les mots ( de 1 -> longeur des mots distinct) pour transformer des texts au vecteur \n",
        "  - on appliquera le padding qui a pour but de creés des phrases de méme longeur (MAX_SEQUENCE_LENGTH) on complétent les vecteurs par des zeros\n",
        "  - on divisera les datas en train et test"
      ]
    },
    {
      "cell_type": "code",
      "metadata": {
        "id": "9Pb7e9ghPnng"
      },
      "source": [
        "see=set()\n",
        "for i in list(df_f[\"text__utterance\"]):\n",
        "  see.add(len(i))\n",
        "MAX_SEQUENCE_LENGTH = max(see)"
      ],
      "execution_count": null,
      "outputs": []
    },
    {
      "cell_type": "code",
      "metadata": {
        "id": "Gh_H2yWnc3on"
      },
      "source": [
        "x=df_f['text__utterance']\n",
        "Y=df_f[\"gender\"]"
      ],
      "execution_count": null,
      "outputs": []
    },
    {
      "cell_type": "code",
      "metadata": {
        "id": "n5rYYQGVc3rT"
      },
      "source": [
        "tokenizer = Tokenizer()\n",
        "tokenizer.fit_on_texts(x)"
      ],
      "execution_count": null,
      "outputs": []
    },
    {
      "cell_type": "code",
      "metadata": {
        "id": "M5NcE0Qjc3vr"
      },
      "source": [
        "sequences = tokenizer.texts_to_sequences(df_f['text__utterance'])\n",
        "data = pad_sequences(sequences, maxlen=MAX_SEQUENCE_LENGTH)"
      ],
      "execution_count": null,
      "outputs": []
    },
    {
      "cell_type": "code",
      "metadata": {
        "id": "N3RGnAgRgnpl"
      },
      "source": [
        "Train_X, Test_X, Train_Y, Test_Y = model_selection.train_test_split(data,Y,test_size=0.3)"
      ],
      "execution_count": null,
      "outputs": []
    },
    {
      "cell_type": "code",
      "metadata": {
        "id": "VJWLmypFB3JQ",
        "colab": {
          "base_uri": "https://localhost:8080/",
          "height": 34
        },
        "outputId": "d0e10cfb-bba4-48e9-9aa5-91e7fc7d6cd5"
      },
      "source": [
        "Train_X.shape , Test_X.shape , Train_Y.shape , Test_Y.shape"
      ],
      "execution_count": null,
      "outputs": [
        {
          "output_type": "execute_result",
          "data": {
            "text/plain": [
              "((170741, 1638), (73175, 1638), (170741,), (73175,))"
            ]
          },
          "metadata": {
            "tags": []
          },
          "execution_count": 19
        }
      ]
    },
    {
      "cell_type": "markdown",
      "metadata": {
        "id": "MuTgQ-cetAz9"
      },
      "source": [
        "##Glove"
      ]
    },
    {
      "cell_type": "markdown",
      "metadata": {
        "id": "_B5Onk-LxADq"
      },
      "source": [
        "on va creés la matrice embedding a partir du modele \" Glove\" un model prêt entraîner"
      ]
    },
    {
      "cell_type": "code",
      "metadata": {
        "id": "uWf_5vWrx1dz",
        "colab": {
          "base_uri": "https://localhost:8080/",
          "height": 34
        },
        "outputId": "da1b0965-5071-41c9-ebc6-0c4bb273a2c3"
      },
      "source": [
        "if( 'glove.zip' in os.listdir(\"/content/gdrive/My Drive\")):\n",
        "  print('glove.zip  file in your drive' )\n",
        "else:\n",
        "  urllib.request.urlretrieve('http://nlp.stanford.edu/data/glove.840B.300d.zip', 'glove.zip')\n",
        "  !cp glove.zip \"/content/gdrive/My Drive/\""
      ],
      "execution_count": null,
      "outputs": [
        {
          "output_type": "stream",
          "text": [
            "glove.zip  file in your drive\n"
          ],
          "name": "stdout"
        }
      ]
    },
    {
      "cell_type": "code",
      "metadata": {
        "id": "-r7XwWu1x7vR"
      },
      "source": [
        "with zipfile.ZipFile(\"/content/gdrive/My Drive/glove.zip\",\"r\")as myzip:\n",
        "  l=myzip.namelist()\n",
        "  f=myzip.open(l[0])"
      ],
      "execution_count": null,
      "outputs": []
    },
    {
      "cell_type": "code",
      "metadata": {
        "id": "fX3TsCVbc37G"
      },
      "source": [
        "word_index=tokenizer.word_index\n",
        "vocab_size=len(word_index) + 1\n",
        "EMBEDDING_DIM=300\n",
        "from tqdm import tqdm"
      ],
      "execution_count": null,
      "outputs": []
    },
    {
      "cell_type": "code",
      "metadata": {
        "id": "Up4obnSbc4BI",
        "colab": {
          "base_uri": "https://localhost:8080/",
          "height": 34
        },
        "outputId": "c369b3cf-3e9c-4621-a5eb-dbc9b7e2d9e0"
      },
      "source": [
        "embeddings_index = {}\n",
        "for line in tqdm(f):\n",
        "  values = line.split()\n",
        "  word = str(values[0],'utf-8')\n",
        "  embeddings_index[word] = np.asarray(values[1:], dtype='float32')"
      ],
      "execution_count": null,
      "outputs": [
        {
          "output_type": "stream",
          "text": [
            "2196017it [03:36, 10137.91it/s]\n"
          ],
          "name": "stderr"
        }
      ]
    },
    {
      "cell_type": "code",
      "metadata": {
        "id": "QTslvkKUc4Xd",
        "colab": {
          "base_uri": "https://localhost:8080/",
          "height": 51
        },
        "outputId": "7fb712ac-8bd1-4b35-e7be-83cca38fd082"
      },
      "source": [
        "embedding_matrix = np.zeros((vocab_size, EMBEDDING_DIM))\n",
        "for word, i in tqdm(word_index.items()):\n",
        "    embedding_vector = embeddings_index.get(word)\n",
        "    if embedding_vector is not None:\n",
        "        embedding_matrix[i] = embedding_vector\n",
        "print(\" Completed!\")"
      ],
      "execution_count": null,
      "outputs": [
        {
          "output_type": "stream",
          "text": [
            "100%|██████████| 41281/41281 [00:00<00:00, 496587.21it/s]"
          ],
          "name": "stderr"
        },
        {
          "output_type": "stream",
          "text": [
            " Completed!\n"
          ],
          "name": "stdout"
        },
        {
          "output_type": "stream",
          "text": [
            "\n"
          ],
          "name": "stderr"
        }
      ]
    },
    {
      "cell_type": "code",
      "metadata": {
        "id": "htIe3bPQezYo",
        "colab": {
          "base_uri": "https://localhost:8080/",
          "height": 34
        },
        "outputId": "975bb68b-55c4-4b1b-d3d5-48ef9e4e7118"
      },
      "source": [
        "embedding_matrix.shape"
      ],
      "execution_count": null,
      "outputs": [
        {
          "output_type": "execute_result",
          "data": {
            "text/plain": [
              "(41282, 300)"
            ]
          },
          "metadata": {
            "tags": []
          },
          "execution_count": 25
        }
      ]
    },
    {
      "cell_type": "markdown",
      "metadata": {
        "id": "wfWfFGLntW3S"
      },
      "source": [
        "##Métrique"
      ]
    },
    {
      "cell_type": "markdown",
      "metadata": {
        "id": "ksTox9JyxgPq"
      },
      "source": [
        "On va utilser une fonction indicatrice $\\mathbb{1}_{x \\leq0.5}$ ( dans le code ind ) puisque notre but et de faire la classification et LSTM et CNN retourn des numéros entre 0 et 1 et pas 0 ou 1.\n",
        "\n",
        "vue que on a défalqué la base de données, les résultats de f1 sur cette base n'a pas du sens puisque un seul artiste ( qu'on va supposer qu'il est de sexe \"s\" ) peut avoir plus d'une phrase et pas forcement que notre model va classer toutes ses phrases de sexe \"s\".\n",
        "\n",
        "Donc l'idées et de faire un moyenne sur les sorties du model ( c a d si un acteur \"a1\" a 3 phrases(ph1,ph2 et ph3) et il est de sexe \"0\" et notre model a classer (ph1 -> 0 , ph2 -> 1 et ph3 -> 0) on va dire que \"a1\" est de sexe ind(1/3)=0 donc \"a1\" de sexe 0."
      ]
    },
    {
      "cell_type": "code",
      "metadata": {
        "id": "w7H-2EkcoXcv"
      },
      "source": [
        "from tensorflow.python.keras import backend as K\n",
        "def f1(y_true, y_pred):\n",
        "    y_true = K.flatten(y_true)\n",
        "    y_pred = K.flatten(y_pred)\n",
        "    return 2 * (K.sum(y_true * y_pred)+ K.epsilon()) / (K.sum(y_true) + K.sum(y_pred) + K.epsilon())"
      ],
      "execution_count": null,
      "outputs": []
    },
    {
      "cell_type": "code",
      "metadata": {
        "id": "pEotwhU8tYry"
      },
      "source": [
        "def ind(n):\n",
        "  if(n<=0.5):\n",
        "    return(0)\n",
        "  else:\n",
        "    return(1)"
      ],
      "execution_count": null,
      "outputs": []
    },
    {
      "cell_type": "code",
      "metadata": {
        "id": "pi7Srp3ptYyR"
      },
      "source": [
        "def F1_score(Test_Y,predictions,model_name):\n",
        "  if(model_name=='svm'):\n",
        "    y=predictions_SVM\n",
        "  else:  \n",
        "    y=[]\n",
        "    for i in predictions:\n",
        "      y.append(ind(i))\n",
        "\n",
        "  d_test={}\n",
        "  d_pred={}\n",
        "  list_index=list(Test_Y.index)\n",
        "  for i in range(len(list_index)):\n",
        "    idd=df_f.loc[list_index[i]][\"id\"]\n",
        "    if(idd in d_test):\n",
        "      d_test[idd].append(Test_Y[list_index[i]])\n",
        "      d_pred[idd].append(y[i])\n",
        "    else:\n",
        "      d_test[idd]=[]\n",
        "      d_pred[idd]=[]\n",
        "      d_test[idd].append(Test_Y[list_index[i]])\n",
        "      d_pred[idd].append(y[i])\n",
        "  d_test={i:np.mean(d_test[i]) for i in d_test}\n",
        "  d_pred={i:ind(np.mean(d_pred[i])) for i in d_pred}\n",
        "  y_test=list(d_test.values())\n",
        "  y_pred=list(d_pred.values())\n",
        "\n",
        "  f1=f1_score(y_test, y_pred)\n",
        "  print(f1)\n",
        "  return(f1)"
      ],
      "execution_count": null,
      "outputs": []
    },
    {
      "cell_type": "markdown",
      "metadata": {
        "id": "NMKyKdeqtDYy"
      },
      "source": [
        "##Modèles LSTM"
      ]
    },
    {
      "cell_type": "code",
      "metadata": {
        "id": "zxFeiGySc4bQ"
      },
      "source": [
        "model_lstm = tf.keras.models.Sequential()\n",
        "model_lstm.add(Embedding(vocab_size,300,weights = [embedding_matrix],input_length= MAX_SEQUENCE_LENGTH ,trainable = False))\n",
        "model_lstm.add( LSTM(150, return_sequences=True) )\n",
        "model_lstm.add(Bidirectional(tf.compat.v1.keras.layers.CuDNNLSTM(75)))\n",
        "model_lstm.add(Dense(64,activation = 'relu'))\n",
        "model_lstm.add(Dense(16,activation = 'relu'))\n",
        "model_lstm.add(Dense(1,activation = 'sigmoid'))"
      ],
      "execution_count": null,
      "outputs": []
    },
    {
      "cell_type": "code",
      "metadata": {
        "id": "VK05anHFc4eZ"
      },
      "source": [
        "model_lstm.compile(optimizer='adam',loss='binary_crossentropy',metrics = [f1])"
      ],
      "execution_count": null,
      "outputs": []
    },
    {
      "cell_type": "code",
      "metadata": {
        "id": "VVUFa6svk4a-",
        "colab": {
          "base_uri": "https://localhost:8080/",
          "height": 323
        },
        "outputId": "e8aad1af-4785-4789-e347-86ec9486db24"
      },
      "source": [
        "model_lstm.summary()"
      ],
      "execution_count": null,
      "outputs": [
        {
          "output_type": "stream",
          "text": [
            "Model: \"sequential_7\"\n",
            "_________________________________________________________________\n",
            "Layer (type)                 Output Shape              Param #   \n",
            "=================================================================\n",
            "embedding_7 (Embedding)      (None, 1638, 300)         12384600  \n",
            "_________________________________________________________________\n",
            "bidirectional_7 (Bidirection (None, 150)               226200    \n",
            "_________________________________________________________________\n",
            "dense_22 (Dense)             (None, 64)                9664      \n",
            "_________________________________________________________________\n",
            "dense_23 (Dense)             (None, 16)                1040      \n",
            "_________________________________________________________________\n",
            "dense_24 (Dense)             (None, 1)                 17        \n",
            "=================================================================\n",
            "Total params: 12,621,521\n",
            "Trainable params: 236,921\n",
            "Non-trainable params: 12,384,600\n",
            "_________________________________________________________________\n"
          ],
          "name": "stdout"
        }
      ]
    },
    {
      "cell_type": "code",
      "metadata": {
        "id": "PUClgkE0c4hj",
        "colab": {
          "base_uri": "https://localhost:8080/",
          "height": 34
        },
        "outputId": "9c8e5b19-5cef-4efa-b134-e6eb6e3eadd7"
      },
      "source": [
        "history_lstm=model_lstm.fit(Train_X, Train_Y, epochs = 4, batch_size=128, validation_data=(Test_X, Test_Y),verbose=1)"
      ],
      "execution_count": null,
      "outputs": [
        {
          "output_type": "stream",
          "text": [
            "1334/1334 [==============================] - 432s 324ms/step - loss: 0.5825 - accuracy: 0.7064 - val_loss: 0.5941 - val_accuracy: 0.6996\n"
          ],
          "name": "stdout"
        }
      ]
    },
    {
      "cell_type": "code",
      "metadata": {
        "id": "D2NLmqNCc4km"
      },
      "source": [
        "predictions_lstm = model_lstm.predict(Test_X)"
      ],
      "execution_count": null,
      "outputs": []
    },
    {
      "cell_type": "code",
      "metadata": {
        "id": "mi23z_Sqr5Bg",
        "colab": {
          "base_uri": "https://localhost:8080/",
          "height": 51
        },
        "outputId": "8397ebac-d151-4922-e06a-4a352b6cc34c"
      },
      "source": [
        "f1_lstm=F1_score(Test_Y,predictions_lstm,'LSTM')\n",
        "model_score['LSTM']=(model_lstm,f1_lstm)"
      ],
      "execution_count": null,
      "outputs": [
        {
          "output_type": "stream",
          "text": [
            "0.8160261651676206\n"
          ],
          "name": "stdout"
        },
        {
          "output_type": "execute_result",
          "data": {
            "text/plain": [
              "0.8160261651676206"
            ]
          },
          "metadata": {
            "tags": []
          },
          "execution_count": 76
        }
      ]
    },
    {
      "cell_type": "markdown",
      "metadata": {
        "id": "84kp9kW_uUQU"
      },
      "source": [
        "##Modèles CNN \n"
      ]
    },
    {
      "cell_type": "code",
      "metadata": {
        "id": "R5BWLQFdue1U"
      },
      "source": [
        "model_cnn = tf.keras.models.Sequential()\n",
        "model_cnn.add(Embedding(vocab_size,300,weights = [embedding_matrix],input_length=MAX_SEQUENCE_LENGTH,trainable = False))\n",
        "model_cnn.add(tf.keras.layers.Conv1D(128, 5, activation='relu'))\n",
        "model_cnn.add(tf.keras.layers.Conv1D(64, 5, activation='relu'))\n",
        "model_cnn.add(tf.keras.layers.GlobalMaxPooling1D())\n",
        "model_cnn.add(Dense(32, activation='relu'))\n",
        "model_cnn.add(Dense(1, activation='sigmoid'))"
      ],
      "execution_count": null,
      "outputs": []
    },
    {
      "cell_type": "code",
      "metadata": {
        "id": "QFGIxMJGue57"
      },
      "source": [
        "model_cnn.compile(optimizer='sgd',loss='binary_crossentropy',metrics = ['accuracy',f1])"
      ],
      "execution_count": null,
      "outputs": []
    },
    {
      "cell_type": "code",
      "metadata": {
        "id": "Df5vjgr6PW0B",
        "colab": {
          "base_uri": "https://localhost:8080/",
          "height": 357
        },
        "outputId": "3be44282-b71f-40a3-efc0-f4675ae84e53"
      },
      "source": [
        "model_cnn.summary()"
      ],
      "execution_count": null,
      "outputs": [
        {
          "output_type": "stream",
          "text": [
            "Model: \"sequential_1\"\n",
            "_________________________________________________________________\n",
            "Layer (type)                 Output Shape              Param #   \n",
            "=================================================================\n",
            "embedding_1 (Embedding)      (None, 1638, 300)         12384600  \n",
            "_________________________________________________________________\n",
            "conv1d (Conv1D)              (None, 1634, 128)         192128    \n",
            "_________________________________________________________________\n",
            "conv1d_1 (Conv1D)            (None, 1630, 64)          41024     \n",
            "_________________________________________________________________\n",
            "global_max_pooling1d (Global (None, 64)                0         \n",
            "_________________________________________________________________\n",
            "dense (Dense)                (None, 32)                2080      \n",
            "_________________________________________________________________\n",
            "dense_1 (Dense)              (None, 1)                 33        \n",
            "=================================================================\n",
            "Total params: 12,619,865\n",
            "Trainable params: 235,265\n",
            "Non-trainable params: 12,384,600\n",
            "_________________________________________________________________\n"
          ],
          "name": "stdout"
        }
      ]
    },
    {
      "cell_type": "code",
      "metadata": {
        "id": "W0WmalQtPZI5",
        "colab": {
          "base_uri": "https://localhost:8080/",
          "height": 207
        },
        "outputId": "8eee6058-7876-405a-a793-a89d5d27fba8"
      },
      "source": [
        "history_cnn=model_cnn.fit(Train_X, Train_Y, epochs = 5, batch_size=128, validation_data=(Test_X, Test_Y))"
      ],
      "execution_count": null,
      "outputs": [
        {
          "output_type": "stream",
          "text": [
            "Epoch 1/5\n",
            "1334/1334 [==============================] - 145s 109ms/step - loss: 0.6119 - accuracy: 0.7005 - f1: 0.6952 - val_loss: 0.6100 - val_accuracy: 0.6990 - val_f1: 0.7033\n",
            "Epoch 2/5\n",
            "1334/1334 [==============================] - 144s 108ms/step - loss: 0.6068 - accuracy: 0.7005 - f1: 0.7015 - val_loss: 0.6091 - val_accuracy: 0.6990 - val_f1: 0.6894\n",
            "Epoch 3/5\n",
            "1334/1334 [==============================] - 144s 108ms/step - loss: 0.6040 - accuracy: 0.7005 - f1: 0.7029 - val_loss: 0.6058 - val_accuracy: 0.6990 - val_f1: 0.6991\n",
            "Epoch 4/5\n",
            "1334/1334 [==============================] - 144s 108ms/step - loss: 0.6014 - accuracy: 0.7007 - f1: 0.7043 - val_loss: 0.6044 - val_accuracy: 0.6988 - val_f1: 0.6997\n",
            "Epoch 5/5\n",
            "1334/1334 [==============================] - 144s 108ms/step - loss: 0.5993 - accuracy: 0.7006 - f1: 0.7057 - val_loss: 0.6041 - val_accuracy: 0.6983 - val_f1: 0.6959\n"
          ],
          "name": "stdout"
        }
      ]
    },
    {
      "cell_type": "code",
      "metadata": {
        "id": "PTUfZE_rQIkG"
      },
      "source": [
        "predictions_cnn = model_cnn.predict(Test_X)"
      ],
      "execution_count": null,
      "outputs": []
    },
    {
      "cell_type": "code",
      "metadata": {
        "id": "fGU7LRCKQIf0"
      },
      "source": [
        "f1_cnn=F1_score(Test_Y,predictions_cnn,'CNN')\n",
        "model_score['cnn']=(model_cnn,f1_cnn)"
      ],
      "execution_count": null,
      "outputs": []
    },
    {
      "cell_type": "markdown",
      "metadata": {
        "id": "F5x3dpiHuQPq"
      },
      "source": [
        "##Modèles SVM"
      ]
    },
    {
      "cell_type": "code",
      "metadata": {
        "id": "sri1Ppkvk91L"
      },
      "source": [
        "emb = tf.keras.models.Sequential()\n",
        "emb.add(Embedding(vocab_size,300,weights = [embedding_matrix],input_length=MAX_SEQUENCE_LENGTH,trainable = False))\n",
        "emb.add(tf.keras.layers.GlobalAveragePooling1D())"
      ],
      "execution_count": null,
      "outputs": []
    },
    {
      "cell_type": "code",
      "metadata": {
        "id": "1BhJZn3kk94S"
      },
      "source": [
        "Train_X_emb=emb.predict(Train_X)\n",
        "Test_X_emb=emb.predict(Test_X)"
      ],
      "execution_count": null,
      "outputs": []
    },
    {
      "cell_type": "code",
      "metadata": {
        "id": "LpyiBp6PlMw6",
        "colab": {
          "base_uri": "https://localhost:8080/",
          "height": 85
        },
        "outputId": "7c35c6fd-7132-437e-f31e-711fd9a4fc96"
      },
      "source": [
        "SVM = svm.SVC(C=1.0, kernel='linear', degree=3, gamma='auto')\n",
        "SVM.fit(Train_X_emb , Train_Y )"
      ],
      "execution_count": null,
      "outputs": [
        {
          "output_type": "execute_result",
          "data": {
            "text/plain": [
              "SVC(C=1.0, break_ties=False, cache_size=200, class_weight=None, coef0=0.0,\n",
              "    decision_function_shape='ovr', degree=3, gamma='auto', kernel='linear',\n",
              "    max_iter=-1, probability=False, random_state=None, shrinking=True,\n",
              "    tol=0.001, verbose=False)"
            ]
          },
          "metadata": {
            "tags": []
          },
          "execution_count": 31
        }
      ]
    },
    {
      "cell_type": "code",
      "metadata": {
        "id": "JjrQA1MzlM2_"
      },
      "source": [
        "predictions_SVM = SVM.predict(Test_X_emb)"
      ],
      "execution_count": null,
      "outputs": []
    },
    {
      "cell_type": "code",
      "metadata": {
        "id": "t_oAelwNlMvr"
      },
      "source": [
        "f1_svm=F1_score(Test_Y, predictions_SVM,'svm')\n",
        "print(f1_svm)\n",
        "model_score['svm']=(SVM,f1_svm)"
      ],
      "execution_count": null,
      "outputs": []
    },
    {
      "cell_type": "markdown",
      "metadata": {
        "id": "dBXNVFJHud73"
      },
      "source": [
        "\n",
        "#Prédiction"
      ]
    },
    {
      "cell_type": "markdown",
      "metadata": {
        "id": "SJ0CO1in2RXi"
      },
      "source": [
        "On va se baser sur les F1_score de chaque model et va prendre le score la plus grand pour predire les sexes des acteur ."
      ]
    },
    {
      "cell_type": "markdown",
      "metadata": {
        "id": "Xp8iPvP_2W-h"
      },
      "source": [
        "##Préparation des données pour la prédiction"
      ]
    },
    {
      "cell_type": "code",
      "metadata": {
        "id": "EYD3cXak2bn5"
      },
      "source": [
        "d_id_pred,d_con=data_to_dict(df_ch_pred,df_con)"
      ],
      "execution_count": null,
      "outputs": []
    },
    {
      "cell_type": "code",
      "metadata": {
        "id": "jsboBQ5p2bkD"
      },
      "source": [
        "df_pred=Merge(d_id_pred,d_con)"
      ],
      "execution_count": null,
      "outputs": []
    },
    {
      "cell_type": "code",
      "metadata": {
        "id": "TO3UzrUg2bht",
        "colab": {
          "base_uri": "https://localhost:8080/",
          "height": 204
        },
        "outputId": "8eb43f3a-d286-4707-bae3-8111714c13f3"
      },
      "source": [
        "df_pred.head(5)"
      ],
      "execution_count": null,
      "outputs": [
        {
          "output_type": "execute_result",
          "data": {
            "text/html": [
              "<div>\n",
              "<style scoped>\n",
              "    .dataframe tbody tr th:only-of-type {\n",
              "        vertical-align: middle;\n",
              "    }\n",
              "\n",
              "    .dataframe tbody tr th {\n",
              "        vertical-align: top;\n",
              "    }\n",
              "\n",
              "    .dataframe thead th {\n",
              "        text-align: right;\n",
              "    }\n",
              "</style>\n",
              "<table border=\"1\" class=\"dataframe\">\n",
              "  <thead>\n",
              "    <tr style=\"text-align: right;\">\n",
              "      <th></th>\n",
              "      <th>id</th>\n",
              "      <th>text__utterance</th>\n",
              "      <th>gender</th>\n",
              "    </tr>\n",
              "  </thead>\n",
              "  <tbody>\n",
              "    <tr>\n",
              "      <th>0</th>\n",
              "      <td>u1</td>\n",
              "      <td>[alway pleasur bruci, peg gigglepuss fan littl...</td>\n",
              "      <td>?</td>\n",
              "    </tr>\n",
              "    <tr>\n",
              "      <th>1</th>\n",
              "      <td>u8</td>\n",
              "      <td>[miss, say expos group freshmen girl, bratwurs...</td>\n",
              "      <td>?</td>\n",
              "    </tr>\n",
              "    <tr>\n",
              "      <th>2</th>\n",
              "      <td>u10</td>\n",
              "      <td>[microwav, make anyon cri today, synonym throb...</td>\n",
              "      <td>?</td>\n",
              "    </tr>\n",
              "    <tr>\n",
              "      <th>3</th>\n",
              "      <td>u12</td>\n",
              "      <td>[never seen heat like even la mina, water go p...</td>\n",
              "      <td>?</td>\n",
              "    </tr>\n",
              "    <tr>\n",
              "      <th>4</th>\n",
              "      <td>u13</td>\n",
              "      <td>[say asia found sail west, ye emin voyag take ...</td>\n",
              "      <td>?</td>\n",
              "    </tr>\n",
              "  </tbody>\n",
              "</table>\n",
              "</div>"
            ],
            "text/plain": [
              "    id                                    text__utterance gender\n",
              "0   u1  [alway pleasur bruci, peg gigglepuss fan littl...      ?\n",
              "1   u8  [miss, say expos group freshmen girl, bratwurs...      ?\n",
              "2  u10  [microwav, make anyon cri today, synonym throb...      ?\n",
              "3  u12  [never seen heat like even la mina, water go p...      ?\n",
              "4  u13  [say asia found sail west, ye emin voyag take ...      ?"
            ]
          },
          "metadata": {
            "tags": []
          },
          "execution_count": 46
        }
      ]
    },
    {
      "cell_type": "code",
      "metadata": {
        "id": "cybwGiJK2beg"
      },
      "source": [
        "df_pred.shape"
      ],
      "execution_count": null,
      "outputs": []
    },
    {
      "cell_type": "code",
      "metadata": {
        "id": "_WNdEmE_4Xrc"
      },
      "source": [
        "df_pred=data_for_model(df_pred)"
      ],
      "execution_count": null,
      "outputs": []
    },
    {
      "cell_type": "code",
      "metadata": {
        "id": "ob1tCMHB2bXn"
      },
      "source": [
        "X_pred=df_pred['text__utterance']"
      ],
      "execution_count": null,
      "outputs": []
    },
    {
      "cell_type": "code",
      "metadata": {
        "id": "le3mZvjj4rb9"
      },
      "source": [
        "sequences = tokenizer.texts_to_sequences(X_pred)\n",
        "X = pad_sequences(sequences, maxlen=MAX_SEQUENCE_LENGTH)"
      ],
      "execution_count": null,
      "outputs": []
    },
    {
      "cell_type": "markdown",
      "metadata": {
        "id": "H8ZMr2P32cUX"
      },
      "source": [
        "##Prédiction avec le meilleur model"
      ]
    },
    {
      "cell_type": "markdown",
      "metadata": {
        "id": "WR5mCzqWBCc8"
      },
      "source": [
        "Par raisonnement similaires dans la partie Métrique on va appliquer la fonction indicatrice sur le moyenne sur les prédictions pour avoire le sexe de chaque acteur."
      ]
    },
    {
      "cell_type": "code",
      "metadata": {
        "id": "3Nj9Ct3isY6H"
      },
      "source": [
        "def Best_Model(d):\n",
        "  best_score=0\n",
        "  best_Model=\"\"\n",
        "  best_model_name=\"\"\n",
        "  for i in d:\n",
        "    if(d[i][1]>best_score):\n",
        "      best_score=d[i][1]\n",
        "      best_model_name=i\n",
        "      best_Model=d[i][0]\n",
        "  return(best_Modle,best_model_name)"
      ],
      "execution_count": null,
      "outputs": []
    },
    {
      "cell_type": "code",
      "metadata": {
        "id": "PEnS2AGz6SLU"
      },
      "source": [
        "def prediction(df,model,model_name,X):\n",
        "  if(model_name=='svm'):\n",
        "    X=emb.predict(X)\n",
        "    y=model.predict(X)\n",
        "  else:\n",
        "    predictions=model.predict(X)\n",
        "    y=[]\n",
        "    for i in predictions:\n",
        "      y.append(ind(i))\n",
        "  d={}\n",
        "  list_index=list(df['text__utterance'].index)\n",
        "  for i in range(len(list_index)):\n",
        "    idd=df_f.loc[list_index[i]][\"id\"]\n",
        "    if(idd in d):\n",
        "      d.append(y[i])\n",
        "    else:\n",
        "      d_id_pred[idd]=[]\n",
        "      d[idd].append(y[i])\n",
        "  d={i:ind(np.mean(d[i])) for i in d}\n",
        "  \n",
        "  data=[]\n",
        "  for i in d:\n",
        "    data.append([i,d[i]])\n",
        "\n",
        "  col=[\"id\",\"gender\"]\n",
        "  df_f=pd.DataFrame(data,columns=col) \n",
        "  df['gender'][df[\"gender\"] == 1] = \"M\" \n",
        "  df['gender'][df[\"gender\"] == 0] = \"F\"\n",
        "  return(df_f)"
      ],
      "execution_count": null,
      "outputs": []
    },
    {
      "cell_type": "code",
      "metadata": {
        "id": "6bBe_41c-ExE"
      },
      "source": [
        "best_model,best_model_name=Best_Model(model_score)\n",
        "print(best_model_name)"
      ],
      "execution_count": null,
      "outputs": []
    },
    {
      "cell_type": "code",
      "metadata": {
        "id": "szf2WaYZ7nrI"
      },
      "source": [
        "Predictions = prediction(df_pred,best_model,best_model_name,X)"
      ],
      "execution_count": null,
      "outputs": []
    },
    {
      "cell_type": "markdown",
      "metadata": {
        "id": "y3bawP8_sQn1"
      },
      "source": [
        "#etude statistique"
      ]
    },
    {
      "cell_type": "markdown",
      "metadata": {
        "id": "46Hy_iA9P7SA"
      },
      "source": [
        "On va travail avec la base de donnée de \"moviequotes.memorable_nonmemorable_pairs\" qu'est labelliser par les phrases qui sont memorable ou pas.\n",
        "\n",
        "Cette base donnée va etre predite par le model de gendre pour avoir finalement une base qui représente la phrase , la lable mémorable ou pas et le sexe \n",
        "\n",
        "et finlament l'etude statistique "
      ]
    },
    {
      "cell_type": "code",
      "metadata": {
        "id": "DoYsFS8NsYgR"
      },
      "source": [
        "data_ch=[]\n",
        "f = open(\"/content/gdrive/My Drive/data set projet ML/moviequotes.memorable_nonmemorable_pairs.txt\", \"r\",encoding=\"ISO-8859-1\")\n",
        "for x in f:\n",
        "  data_ch.append(x)\n",
        "l2=''.join(data_ch).split(\"\\n\\n\")\n",
        "l3=[i.split(\"\\n\") for i in l2]    \n",
        "#l3\n",
        "col_ch=[\"MOVIE_TITLE\",\"MEMORABLE_QUOTE\",\"LINE_ID_MEMORABLE MATCHED_QUOTE\",\"LINE_ID_NON_MEMORABLE NON_MEMORABLE_QUOTE\"]\n",
        "df2=pd.DataFrame(l3,columns=col_ch)    \n",
        "df2.dropna(inplace=True)\n",
        "#l3[len(l3)-1]"
      ],
      "execution_count": null,
      "outputs": []
    },
    {
      "cell_type": "code",
      "metadata": {
        "id": "I-Jo2AOCuka-"
      },
      "source": [
        "def f(s):\n",
        "  l=s.split()\n",
        "  s1=l[0]\n",
        "  s2=' '.join(l[1:len(l)])\n",
        "  return(s1,s2)\n",
        "\n",
        "a=df2[\"LINE_ID_MEMORABLE MATCHED_QUOTE\"]\n",
        "b=df2[\"LINE_ID_NON_MEMORABLE NON_MEMORABLE_QUOTE\"]\n",
        "\n",
        "z=a.apply(f)\n",
        "z2=b.apply(f)\n",
        "data=[[i[0],i[1]] for i in z]\n",
        "data2=[[i[0],i[1]] for i in z2]\n",
        "\n",
        "dff=pd.DataFrame(data,columns=[\"LINE_ID_MEMORABLE\",\"MATCHED_QUOTE\"])\n",
        "dff2=pd.DataFrame(data2,columns=[\"LINE_ID_NON_MEMORABLE\",\"NON_MEMORABLE_QUOTE\"])\n",
        "df_3=pd.concat([df2.reset_index(drop=True),dff.reset_index(drop=True),dff2.reset_index(drop=True)], axis=1)\n",
        "#df_3.drop(columns=[\"LINE_ID_MEMORABLE MATCHED_QUOTE\",\"LINE_ID_NON_MEMORABLE NON_MEMORABLE_QUOTE\"],inplace=True)\n",
        "\n",
        "df3=df_3[['MEMORABLE_QUOTE','NON_MEMORABLE_QUOTE',\"LINE_ID_NON_MEMORABLE\",\"LINE_ID_MEMORABLE\"]]\n",
        "\n",
        "Memo=list(df3['MEMORABLE_QUOTE'].values)\n",
        "Non_Memo=list(df3['NON_MEMORABLE_QUOTE'].values)\n",
        "ID_memo=list(df3['LINE_ID_MEMORABLE'].values)\n",
        "ID_non_memo=list(df3['LINE_ID_NON_MEMORABLE'].values)\n",
        "\n",
        "Memo_ind=[1 for i in Memo]\n",
        "Non_Memo_ind=[0 for i in Non_Memo]\n",
        "\n",
        "Memo.extend(Non_Memo)\n",
        "quote=Memo\n",
        "Memo_ind.extend(Non_Memo_ind)\n",
        "labels=Memo_ind\n",
        "ID_memo.extend(ID_non_memo)\n",
        "ID=ID_memo\n",
        "\n",
        "df = pd.DataFrame({'quote':quote,'label':labels,'id':ID}, columns=['quote','label','id'])\n"
      ],
      "execution_count": null,
      "outputs": []
    },
    {
      "cell_type": "code",
      "metadata": {
        "id": "yd73eKTixMoH"
      },
      "source": [
        "df_stat=df.sample(frac=1)"
      ],
      "execution_count": null,
      "outputs": []
    },
    {
      "cell_type": "code",
      "metadata": {
        "id": "WBrEb2keNRxW"
      },
      "source": [
        "x_stat_memo=df_stat[df_stat['label']==1]['quote']"
      ],
      "execution_count": null,
      "outputs": []
    },
    {
      "cell_type": "code",
      "metadata": {
        "id": "fD3r72HUNraN"
      },
      "source": [
        "tokenizer = Tokenizer()\n",
        "tokenizer.fit_on_texts(x_stat_memo)"
      ],
      "execution_count": null,
      "outputs": []
    },
    {
      "cell_type": "code",
      "metadata": {
        "id": "-i3nWnrAOKhd"
      },
      "source": [
        "sequences = tokenizer.texts_to_sequences(x_stat_memo)\n",
        "data_stat_memo = pad_sequences(sequences, maxlen=MAX_SEQUENCE_LENGTH)"
      ],
      "execution_count": null,
      "outputs": []
    },
    {
      "cell_type": "code",
      "metadata": {
        "id": "_FYIOT08Nrc7"
      },
      "source": [
        "y_memo=prediction_stat(df_stat,best_model,best_model_name,data_stat_memo)"
      ],
      "execution_count": null,
      "outputs": []
    },
    {
      "cell_type": "code",
      "metadata": {
        "id": "VPULBxtlNrfD",
        "colab": {
          "base_uri": "https://localhost:8080/",
          "height": 119
        },
        "outputId": "6b266696-73bf-4954-e11e-b8b01791d7b5"
      },
      "source": [
        "df_stat_memo=df_stat[df_stat['label']==1]\n",
        "df_stat_memo[\"gender\"]=y_memo"
      ],
      "execution_count": null,
      "outputs": [
        {
          "output_type": "stream",
          "text": [
            "/usr/local/lib/python3.6/dist-packages/ipykernel_launcher.py:2: SettingWithCopyWarning: \n",
            "A value is trying to be set on a copy of a slice from a DataFrame.\n",
            "Try using .loc[row_indexer,col_indexer] = value instead\n",
            "\n",
            "See the caveats in the documentation: https://pandas.pydata.org/pandas-docs/stable/user_guide/indexing.html#returning-a-view-versus-a-copy\n",
            "  \n"
          ],
          "name": "stderr"
        }
      ]
    },
    {
      "cell_type": "code",
      "metadata": {
        "id": "6M8kjcYdOWPb",
        "colab": {
          "base_uri": "https://localhost:8080/",
          "height": 248
        },
        "outputId": "e18a7887-c702-476a-c1d6-2f7ae5de4770"
      },
      "source": [
        "count=df_stat_memo['gender'].value_counts()\n",
        "labels = 'Homme','Femme'\n",
        "sizes = [count[1]/len(df_stat_memo),count[0]/len(df_stat_memo)]\n",
        "fig1, ax1 = plt.subplots()\n",
        "ax1.pie(sizes, labels=labels, autopct='%1.1f%%',\n",
        "        shadow=True, startangle=90)\n",
        "plt.show()"
      ],
      "execution_count": null,
      "outputs": [
        {
          "output_type": "display_data",
          "data": {
            "image/png": "[encoded data removed]",
            "text/plain": [
              "<Figure size 432x288 with 1 Axes>"
            ]
          },
          "metadata": {
            "tags": []
          }
        }
      ]
    },
    {
      "cell_type": "code",
      "metadata": {
        "id": "bYtqlmtxOtqJ",
        "colab": {
          "base_uri": "https://localhost:8080/",
          "height": 248
        },
        "outputId": "11d5977a-a8ae-4ff5-99e9-ae50df91adf8"
      },
      "source": [
        "count=df_stat_memo[df_stat_memo['label']==1]['gender'].value_counts()\n",
        "labels = 'Man memorable quotes','Woman memorable quotes'\n",
        "sizes = [count[1]/len(df_stat_memo),count[0]/len(df_stat_memo)]\n",
        "fig1, ax1 = plt.subplots()\n",
        "ax1.pie(sizes, labels=labels, autopct='%1.1f%%',\n",
        "        shadow=True, startangle=90)\n",
        "plt.show()"
      ],
      "execution_count": null,
      "outputs": [
        {
          "output_type": "display_data",
          "data": {
            "image/png": "[encoded data removed]",
            "text/plain": [
              "<Figure size 432x288 with 1 Axes>"
            ]
          },
          "metadata": {
            "tags": []
          }
        }
      ]
    },
    {
      "cell_type": "code",
      "metadata": {
        "id": "hFJ21tY-S4Dz"
      },
      "source": [
        ""
      ],
      "execution_count": null,
      "outputs": []
    }
  ]
}